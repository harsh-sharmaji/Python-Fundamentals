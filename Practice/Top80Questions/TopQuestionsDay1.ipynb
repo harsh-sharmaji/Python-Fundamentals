{
 "cells": [
  {
   "cell_type": "markdown",
   "id": "d0478e03",
   "metadata": {},
   "source": [
    "## Top 80 Questions in Python"
   ]
  },
  {
   "cell_type": "markdown",
   "id": "728edeef",
   "metadata": {},
   "source": [
    "### Day 1 20 Questions"
   ]
  },
  {
   "cell_type": "markdown",
   "id": "f6344eef",
   "metadata": {},
   "source": [
    "#### Focus: Loops + If-Else + Patterns"
   ]
  },
  {
   "cell_type": "markdown",
   "id": "bf8e5885",
   "metadata": {},
   "source": [
    "1. Print all even numbers from 1 to N"
   ]
  },
  {
   "cell_type": "code",
   "execution_count": null,
   "id": "90d252ae",
   "metadata": {},
   "outputs": [],
   "source": [
    "inp = int(input(\"Enter a Number:\"))  #we take input to define N\n",
    "for i in range(1, inp+1):\n",
    "    if i % 2 == 0:\n",
    "        print(f\"{i} is even\")\n"
   ]
  },
  {
   "cell_type": "markdown",
   "id": "d7a4683f",
   "metadata": {},
   "source": [
    "2. Print sum of first N natural numbers"
   ]
  },
  {
   "cell_type": "code",
   "execution_count": null,
   "id": "a9a3689a",
   "metadata": {},
   "outputs": [],
   "source": [
    "n = int(input(\"Enter a number: \"))\n",
    "total = 0\n",
    "\n",
    "for i in range(1, n + 1):\n",
    "    total = total + i\n",
    "\n",
    "print(\"Sum is:\", total)\n"
   ]
  },
  {
   "cell_type": "code",
   "execution_count": null,
   "id": "7c3083b6",
   "metadata": {},
   "outputs": [],
   "source": [
    "N = int(input(\"Enter a Number :\"))\n",
    "total = 0\n",
    "for i in range(1, N+1):\n",
    "    total = total + i\n",
    "    print(total)"
   ]
  },
  {
   "cell_type": "markdown",
   "id": "8f09d7c5",
   "metadata": {},
   "source": [
    "3. Find factorial of a number (using loop)"
   ]
  },
  {
   "cell_type": "code",
   "execution_count": null,
   "id": "9970dbc1",
   "metadata": {},
   "outputs": [],
   "source": [
    "ab = list(range(5,0,-1))\n",
    "print(ab)"
   ]
  },
  {
   "cell_type": "code",
   "execution_count": null,
   "id": "69bd9630",
   "metadata": {},
   "outputs": [],
   "source": [
    "num = int(input(\"Your Number\"))\n",
    "fact = 1\n",
    "\n",
    "for i in range(num, 0, -1):\n",
    "    fact = fact*i\n",
    "print(fact)"
   ]
  },
  {
   "cell_type": "markdown",
   "id": "721b497a",
   "metadata": {},
   "source": [
    "4. Count digits in a number"
   ]
  },
  {
   "cell_type": "code",
   "execution_count": null,
   "id": "7eee9036",
   "metadata": {},
   "outputs": [],
   "source": [
    "num1 = 121\n",
    "len(str(num1))"
   ]
  },
  {
   "cell_type": "markdown",
   "id": "7e6008c2",
   "metadata": {},
   "source": [
    "5. Reverse a number"
   ]
  },
  {
   "cell_type": "code",
   "execution_count": null,
   "id": "054b56e5",
   "metadata": {},
   "outputs": [],
   "source": [
    "str(num1)[::-1]\n"
   ]
  },
  {
   "cell_type": "code",
   "execution_count": null,
   "id": "24dfc9b0",
   "metadata": {},
   "outputs": [],
   "source": [
    "str(num1)"
   ]
  },
  {
   "cell_type": "code",
   "execution_count": null,
   "id": "4f11fb95",
   "metadata": {},
   "outputs": [],
   "source": [
    "rev"
   ]
  },
  {
   "cell_type": "code",
   "execution_count": null,
   "id": "bbebfaef",
   "metadata": {},
   "outputs": [],
   "source": [
    "str(num1) == rev"
   ]
  },
  {
   "cell_type": "markdown",
   "id": "4d8ee9e9",
   "metadata": {},
   "source": [
    "6. Check if number is palindrome"
   ]
  },
  {
   "cell_type": "code",
   "execution_count": null,
   "id": "10257079",
   "metadata": {},
   "outputs": [],
   "source": [
    "userinp = int(input(\"Enter a Palindrome Number\"))\n",
    "if str(userinp) == str(userinp)[::-1]:\n",
    "    print(userinp, \"is palindrome\")\n",
    "else:\n",
    "    print(f\"{userinp} is not palindrome\")"
   ]
  },
  {
   "cell_type": "markdown",
   "id": "9a2e3c54",
   "metadata": {},
   "source": [
    "7. Find the sum of digits of a number "
   ]
  },
  {
   "cell_type": "code",
   "execution_count": null,
   "id": "58ab148c",
   "metadata": {},
   "outputs": [],
   "source": [
    "digits = 21485\n",
    "str1 = str(digits)\n",
    "total = 0\n",
    "\n",
    "for i in str1:\n",
    "    total = total + int(i)   # ✅ convert i to int\n",
    "print(\"Sum of digits:\", total)\n"
   ]
  },
  {
   "cell_type": "code",
   "execution_count": null,
   "id": "fb92a817",
   "metadata": {},
   "outputs": [],
   "source": [
    "digits = 21485\n",
    "total = 0\n",
    "\n",
    "while digits > 0:\n",
    "    total = total + digits % 10   # last digit\n",
    "    digits = digits // 10         # remove last digit\n",
    "\n",
    "print(\"Sum of digits:\", total)\n"
   ]
  },
  {
   "cell_type": "markdown",
   "id": "2ed4a01e",
   "metadata": {},
   "source": [
    "8. Find max of 3 numbers using if-else"
   ]
  },
  {
   "cell_type": "code",
   "execution_count": null,
   "id": "004706a2",
   "metadata": {},
   "outputs": [],
   "source": [
    "num1 = int(input(\"Enter No.1\"))\n",
    "num2 = int(input(\"Enter No.2\"))\n",
    "num3 = int(input(\"Enter No.3\"))\n",
    "\n",
    "if num1>num2 and num1>num3:\n",
    "    print(f\"{num1} is greatest\")\n",
    "elif num2>num1 and num2>num3:\n",
    "    print(f\"{num2} is greatest\")\n",
    "else:\n",
    "    print(f\"{num3} is greatest\")"
   ]
  },
  {
   "cell_type": "markdown",
   "id": "3b5e2023",
   "metadata": {},
   "source": [
    "9. Check whether number is divisible by 3 and 5"
   ]
  },
  {
   "cell_type": "code",
   "execution_count": null,
   "id": "75f1899c",
   "metadata": {},
   "outputs": [],
   "source": [
    "num1 = int(input(\"Enter No.1\"))\n",
    "if num1%3==0 and num1%5==0:\n",
    "    print(\"divisible by 3 and 5\")\n",
    "else:\n",
    "    print(\"Bye\")\n"
   ]
  },
  {
   "cell_type": "markdown",
   "id": "ff5b699a",
   "metadata": {},
   "source": [
    "11. Print Half Pyramid of Stars\n"
   ]
  },
  {
   "cell_type": "code",
   "execution_count": null,
   "id": "c655418a",
   "metadata": {},
   "outputs": [],
   "source": [
    "star = int(input(\"Enter no of Stars\"))\n",
    "row = 1\n",
    "while row<=star:\n",
    "    print(\"* \"*row)\n",
    "    row += 1"
   ]
  },
  {
   "cell_type": "markdown",
   "id": "f99584b4",
   "metadata": {},
   "source": [
    "12. Inverse Pyramid of Stars\n",
    "\n"
   ]
  },
  {
   "cell_type": "code",
   "execution_count": null,
   "id": "87d0299e",
   "metadata": {},
   "outputs": [],
   "source": [
    "star = int(input(\"Enter no of Stars\"))\n",
    "row = star\n",
    "while row>=1:\n",
    "    print(\"* \"*row)\n",
    "    row -= 1"
   ]
  },
  {
   "cell_type": "markdown",
   "id": "c7ca7eb6",
   "metadata": {},
   "source": [
    "13. Inverse pyramid using for loop"
   ]
  },
  {
   "cell_type": "code",
   "execution_count": null,
   "id": "f403428a",
   "metadata": {},
   "outputs": [],
   "source": [
    "star = int(input(\"Enter no of Stars\"))\n",
    "for row in range(star,0,-1):\n",
    "    print(\"* \"*row)\n",
    "    "
   ]
  },
  {
   "cell_type": "markdown",
   "id": "ed680adf",
   "metadata": {},
   "source": [
    "14. Print Inverted Number Triangle"
   ]
  },
  {
   "cell_type": "code",
   "execution_count": 19,
   "id": "9ea57c99",
   "metadata": {},
   "outputs": [
    {
     "name": "stdout",
     "output_type": "stream",
     "text": [
      "5 4 3 2 1 \n",
      "4 3 2 1 \n",
      "3 2 1 \n",
      "2 1 \n",
      "1 \n"
     ]
    }
   ],
   "source": [
    "numb = int(input(\"Enter a number: \"))\n",
    "for row in range(numb, 0, -1):\n",
    "    for col in range(row,0,-1):\n",
    "        print (col, end=\" \")\n",
    "    print()\n",
    "\n"
   ]
  },
  {
   "cell_type": "markdown",
   "id": "224e4275",
   "metadata": {},
   "source": [
    "15. Floyd's Triangle\n",
    "\n",
    "Input: 4\n",
    "<br>\n",
    "Output:<br>\n",
    "1<br>\n",
    "2 3<br>\n",
    "4 5 6<br>\n",
    "7 8 9 10<br>"
   ]
  },
  {
   "cell_type": "code",
   "execution_count": 33,
   "id": "b123b31b",
   "metadata": {},
   "outputs": [
    {
     "name": "stdout",
     "output_type": "stream",
     "text": [
      "1 \n",
      "2 3 \n",
      "4 5 6 \n",
      "7 8 9 10 \n"
     ]
    }
   ],
   "source": [
    "floyd = int(input(\"Enter\"))\n",
    "num=1\n",
    "for row in range(1, floyd+1):\n",
    "    for col in range(1, row+1):\n",
    "        print(num, end=\" \")\n",
    "        num += 1\n",
    "    print()"
   ]
  },
  {
   "cell_type": "markdown",
   "id": "278f288c",
   "metadata": {},
   "source": [
    "16. Check if its a prime number or not"
   ]
  },
  {
   "cell_type": "code",
   "execution_count": 34,
   "id": "623107c8",
   "metadata": {},
   "outputs": [],
   "source": [
    "def isprime(n):\n",
    "    if n<=1:\n",
    "        return(f\"{n} is NOT a Prime number \")\n",
    "    for i in range(2, n//2 + 1):\n",
    "        if n%i==0:\n",
    "            return(f\"{n} is NOT a Prime number \")\n",
    "    return(f\"{n} is a Prime number \")"
   ]
  },
  {
   "cell_type": "code",
   "execution_count": 36,
   "id": "790d0d82",
   "metadata": {},
   "outputs": [
    {
     "name": "stdout",
     "output_type": "stream",
     "text": [
      "15 is NOT a Prime number \n"
     ]
    }
   ],
   "source": [
    "print(isprime(15))"
   ]
  },
  {
   "cell_type": "markdown",
   "id": "c7533a43",
   "metadata": {},
   "source": [
    "17. Print All Prime Numbers from 1 to N"
   ]
  },
  {
   "cell_type": "code",
   "execution_count": 42,
   "id": "4c82bd89",
   "metadata": {},
   "outputs": [
    {
     "name": "stdout",
     "output_type": "stream",
     "text": [
      "The prime number between 1 and 4 are :\n",
      "2 3 "
     ]
    }
   ],
   "source": [
    "def isprime(n):\n",
    "    if n<=1:\n",
    "        return False\n",
    "    for i in range(2, n//2 + 1):\n",
    "        if n%i==0:\n",
    "            return False\n",
    "    return True\n",
    "\n",
    "inp1 = int(input(\"Please Enter a Number\"))\n",
    "print(\"The prime number between 1 and\", inp1, \"are :\")\n",
    "for i in range(1, inp1+1):\n",
    "    if isprime(i):\n",
    "        print(i , end = \" \")\n"
   ]
  },
  {
   "cell_type": "code",
   "execution_count": null,
   "id": "ff2caa80",
   "metadata": {},
   "outputs": [],
   "source": []
  },
  {
   "cell_type": "code",
   "execution_count": null,
   "id": "8026b632",
   "metadata": {},
   "outputs": [],
   "source": []
  }
 ],
 "metadata": {
  "kernelspec": {
   "display_name": "base",
   "language": "python",
   "name": "python3"
  },
  "language_info": {
   "codemirror_mode": {
    "name": "ipython",
    "version": 3
   },
   "file_extension": ".py",
   "mimetype": "text/x-python",
   "name": "python",
   "nbconvert_exporter": "python",
   "pygments_lexer": "ipython3",
   "version": "3.12.7"
  }
 },
 "nbformat": 4,
 "nbformat_minor": 5
}
