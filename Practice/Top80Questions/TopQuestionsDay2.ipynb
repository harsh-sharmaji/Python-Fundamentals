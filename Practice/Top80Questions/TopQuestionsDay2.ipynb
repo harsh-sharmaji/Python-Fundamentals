{
 "cells": [
  {
   "cell_type": "markdown",
   "id": "b4454ae8",
   "metadata": {},
   "source": [
    "## Top 80 Questions in Python"
   ]
  },
  {
   "cell_type": "markdown",
   "id": "1bc978c6",
   "metadata": {},
   "source": [
    "### Day 2 20 Questions"
   ]
  },
  {
   "cell_type": "markdown",
   "id": "a25cfc15",
   "metadata": {},
   "source": [
    "1. Create a list of 5 numbers. Print the 2nd and last elements."
   ]
  },
  {
   "cell_type": "code",
   "execution_count": 2,
   "id": "e5c76d1e",
   "metadata": {},
   "outputs": [
    {
     "name": "stdout",
     "output_type": "stream",
     "text": [
      "2\n",
      "5\n"
     ]
    }
   ],
   "source": [
    "list1=[1,2,3,4,5]\n",
    "print(list1[1])\n",
    "print(list1[4])"
   ]
  },
  {
   "cell_type": "markdown",
   "id": "5644c865",
   "metadata": {},
   "source": [
    "2. Append a number to the list. Then insert a number at index 2."
   ]
  },
  {
   "cell_type": "code",
   "execution_count": 12,
   "id": "b5489404",
   "metadata": {},
   "outputs": [
    {
     "name": "stdout",
     "output_type": "stream",
     "text": [
      "88\n",
      "[1, 2, 33, 4, 5, 88, 88, 88, 88, 88, 88]\n"
     ]
    }
   ],
   "source": [
    "list1\n",
    "list1.append(88)\n",
    "list1[2] = 33\n",
    "print(list1.pop(5))\n",
    "print(list1)"
   ]
  },
  {
   "cell_type": "markdown",
   "id": "67be192d",
   "metadata": {},
   "source": [
    "3. Sort the list in descending order."
   ]
  },
  {
   "cell_type": "code",
   "execution_count": 14,
   "id": "06c156a1",
   "metadata": {},
   "outputs": [
    {
     "data": {
      "text/plain": [
       "[89, 45, 7, 5, 2, 2, 1]"
      ]
     },
     "execution_count": 14,
     "metadata": {},
     "output_type": "execute_result"
    }
   ],
   "source": [
    "list2 = [1,2,2,45,89,5,7]\n",
    "list2.sort(reverse=True)\n",
    "list2"
   ]
  },
  {
   "cell_type": "markdown",
   "id": "d970695e",
   "metadata": {},
   "source": [
    "4. Remove the first occurrence of a number from the list."
   ]
  },
  {
   "cell_type": "code",
   "execution_count": 15,
   "id": "f6e3ab23",
   "metadata": {},
   "outputs": [],
   "source": [
    "list2.remove(2)"
   ]
  },
  {
   "cell_type": "code",
   "execution_count": 16,
   "id": "4a5ee871",
   "metadata": {},
   "outputs": [
    {
     "data": {
      "text/plain": [
       "[89, 45, 7, 5, 2, 1]"
      ]
     },
     "execution_count": 16,
     "metadata": {},
     "output_type": "execute_result"
    }
   ],
   "source": [
    "list2"
   ]
  },
  {
   "cell_type": "markdown",
   "id": "b4e3139d",
   "metadata": {},
   "source": [
    "5. Reverse the list without using reverse() or slicing."
   ]
  },
  {
   "cell_type": "code",
   "execution_count": null,
   "id": "6103a94b",
   "metadata": {},
   "outputs": [
    {
     "name": "stdout",
     "output_type": "stream",
     "text": [
      "[4, 23, 8, 6, 5, 4]\n"
     ]
    }
   ],
   "source": [
    "list3 = [4,5,6,8,23,4]  ##recheck and revise\n",
    "reversed_list = []\n",
    "for i in list3:\n",
    "    reversed_list = [i] + reversed_list\n",
    "print(reversed_list)"
   ]
  },
  {
   "cell_type": "markdown",
   "id": "e5ac5e57",
   "metadata": {},
   "source": [
    "6. Create a tuple with 5 elements. Print its length."
   ]
  },
  {
   "cell_type": "code",
   "execution_count": 18,
   "id": "0bb519ac",
   "metadata": {},
   "outputs": [
    {
     "name": "stdout",
     "output_type": "stream",
     "text": [
      "5\n"
     ]
    }
   ],
   "source": [
    "mytup = (10,20,40,80,160)\n",
    "print(len(mytup))"
   ]
  },
  {
   "cell_type": "markdown",
   "id": "22d6f11f",
   "metadata": {},
   "source": [
    "7. Count how many times a specific element appears."
   ]
  },
  {
   "cell_type": "code",
   "execution_count": 19,
   "id": "bbc2e31f",
   "metadata": {},
   "outputs": [
    {
     "name": "stdout",
     "output_type": "stream",
     "text": [
      "3\n"
     ]
    }
   ],
   "source": [
    "my_tuple = (5, 10, 5, 20, 5)\n",
    "print(my_tuple.count(5))"
   ]
  },
  {
   "cell_type": "markdown",
   "id": "b0a71801",
   "metadata": {},
   "source": [
    "8. Find the index of an element in the tuple"
   ]
  },
  {
   "cell_type": "code",
   "execution_count": 22,
   "id": "6306512f",
   "metadata": {},
   "outputs": [
    {
     "data": {
      "text/plain": [
       "2"
      ]
     },
     "execution_count": 22,
     "metadata": {},
     "output_type": "execute_result"
    }
   ],
   "source": [
    "mytup = (10,20,40,80,160)\n",
    "mytup[0]\n",
    "mytup.index(40)"
   ]
  },
  {
   "cell_type": "markdown",
   "id": "ce70b42f",
   "metadata": {},
   "source": [
    "Q9. Convert tuple to list, change a value, and convert back to tuple."
   ]
  },
  {
   "cell_type": "code",
   "execution_count": 29,
   "id": "c307edbc",
   "metadata": {},
   "outputs": [
    {
     "data": {
      "text/plain": [
       "(69, 20, 40, 80, 160)"
      ]
     },
     "execution_count": 29,
     "metadata": {},
     "output_type": "execute_result"
    }
   ],
   "source": [
    "mytup = (10,20,40,80,160)\n",
    "temp = list(mytup)\n",
    "temp[0] = 69\n",
    "mytup = tuple(temp)\n",
    "mytup"
   ]
  },
  {
   "cell_type": "markdown",
   "id": "9111b2da",
   "metadata": {},
   "source": [
    " Q10. Try to modify a tuple directly — observe and explain the error."
   ]
  },
  {
   "cell_type": "code",
   "execution_count": 30,
   "id": "49478def",
   "metadata": {},
   "outputs": [
    {
     "ename": "TypeError",
     "evalue": "'tuple' object does not support item assignment",
     "output_type": "error",
     "traceback": [
      "\u001b[1;31m---------------------------------------------------------------------------\u001b[0m",
      "\u001b[1;31mTypeError\u001b[0m                                 Traceback (most recent call last)",
      "Cell \u001b[1;32mIn[30], line 2\u001b[0m\n\u001b[0;32m      1\u001b[0m mytup \u001b[38;5;241m=\u001b[39m (\u001b[38;5;241m10\u001b[39m,\u001b[38;5;241m20\u001b[39m,\u001b[38;5;241m40\u001b[39m,\u001b[38;5;241m80\u001b[39m,\u001b[38;5;241m160\u001b[39m)\n\u001b[1;32m----> 2\u001b[0m mytup[\u001b[38;5;241m0\u001b[39m] \u001b[38;5;241m=\u001b[39m \u001b[38;5;241m100\u001b[39m\n",
      "\u001b[1;31mTypeError\u001b[0m: 'tuple' object does not support item assignment"
     ]
    }
   ],
   "source": [
    "mytup = (10,20,40,80,160)\n",
    "mytup[0] = 100"
   ]
  },
  {
   "cell_type": "markdown",
   "id": "72e4fe95",
   "metadata": {},
   "source": [
    "11. Create a set with duplicates. Print the set."
   ]
  },
  {
   "cell_type": "code",
   "execution_count": 32,
   "id": "9afbc9f8",
   "metadata": {},
   "outputs": [
    {
     "name": "stdout",
     "output_type": "stream",
     "text": [
      "{1, 2, 3, 20}\n"
     ]
    }
   ],
   "source": [
    "myset = {1,20,2,20,3,2}\n",
    "print(myset)\n",
    "#returns with no dupli and sorted as well"
   ]
  },
  {
   "cell_type": "markdown",
   "id": "a2815eeb",
   "metadata": {},
   "source": [
    "12. Add an element to the set."
   ]
  },
  {
   "cell_type": "code",
   "execution_count": 34,
   "id": "30e979ea",
   "metadata": {},
   "outputs": [
    {
     "name": "stdout",
     "output_type": "stream",
     "text": [
      "{1, 2, 3, 77, 20}\n"
     ]
    }
   ],
   "source": [
    "myset = {1,20,2,20,3,2}\n",
    "myset.add(77)\n",
    "print(myset)"
   ]
  },
  {
   "cell_type": "markdown",
   "id": "ac85e5f1",
   "metadata": {},
   "source": [
    "13. Remove an element from the set safely."
   ]
  },
  {
   "cell_type": "code",
   "execution_count": 35,
   "id": "3ff25a5b",
   "metadata": {},
   "outputs": [
    {
     "data": {
      "text/plain": [
       "{1, 2, 3, 20, 77}"
      ]
     },
     "execution_count": 35,
     "metadata": {},
     "output_type": "execute_result"
    }
   ],
   "source": [
    "myset"
   ]
  },
  {
   "cell_type": "code",
   "execution_count": 38,
   "id": "4fdf3ed6",
   "metadata": {},
   "outputs": [
    {
     "name": "stdout",
     "output_type": "stream",
     "text": [
      "{2, 3, 20}\n"
     ]
    }
   ],
   "source": [
    "myset.discard(77)\n",
    "print(myset)"
   ]
  },
  {
   "cell_type": "markdown",
   "id": "e52123a3",
   "metadata": {},
   "source": [
    " Q14. Find the union of two sets."
   ]
  },
  {
   "cell_type": "code",
   "execution_count": 40,
   "id": "bcffef7e",
   "metadata": {},
   "outputs": [
    {
     "name": "stdout",
     "output_type": "stream",
     "text": [
      "{1, 2, 3, 4, 5, 6, 7, 8}\n"
     ]
    }
   ],
   "source": [
    "a ={1,2,3,4,5}\n",
    "b= {4,5,6,7,8}\n",
    "c = a.union(b)\n",
    "print(c)"
   ]
  },
  {
   "cell_type": "markdown",
   "id": "5c810685",
   "metadata": {},
   "source": [
    " Q15. Find the intersection of two sets."
   ]
  },
  {
   "cell_type": "code",
   "execution_count": 41,
   "id": "5018fa91",
   "metadata": {},
   "outputs": [
    {
     "name": "stdout",
     "output_type": "stream",
     "text": [
      "{3}\n"
     ]
    }
   ],
   "source": [
    "a = {1, 2, 3}\n",
    "b = {3, 4, 5}\n",
    "c = a.intersection(b)\n",
    "print(c)"
   ]
  },
  {
   "cell_type": "markdown",
   "id": "ccf2d343",
   "metadata": {},
   "source": [
    "16. Create a dictionary with 3 key-value pairs."
   ]
  },
  {
   "cell_type": "code",
   "execution_count": 42,
   "id": "eda5abe0",
   "metadata": {},
   "outputs": [
    {
     "name": "stdout",
     "output_type": "stream",
     "text": [
      "{'Name': 'Harsh', 'Age': '24', 'Fit': 'Yes'}\n"
     ]
    }
   ],
   "source": [
    "mydict = {\"Name\":\"Harsh\", \"Age\" : \"24\", \"Fit\": \"Yes\" }\n",
    "print(mydict)"
   ]
  },
  {
   "cell_type": "markdown",
   "id": "bf0a3f99",
   "metadata": {},
   "source": [
    "17. Add a new key-value pair to the dictionary."
   ]
  },
  {
   "cell_type": "code",
   "execution_count": 47,
   "id": "bde84b99",
   "metadata": {},
   "outputs": [
    {
     "name": "stdout",
     "output_type": "stream",
     "text": [
      "{'Name': 'Harsh', 'Age': '24', 'Fit': 'Yes', 'City': 'Bengaluru'}\n"
     ]
    }
   ],
   "source": [
    "mydict[\"City\"]= \"Bengaluru\"\n",
    "print(mydict)"
   ]
  },
  {
   "cell_type": "markdown",
   "id": "4689695f",
   "metadata": {},
   "source": [
    " Q18. Change the value of an existing key."
   ]
  },
  {
   "cell_type": "code",
   "execution_count": 50,
   "id": "52643b88",
   "metadata": {},
   "outputs": [
    {
     "name": "stdout",
     "output_type": "stream",
     "text": [
      "{'Name': 'Harsh Sharma', 'Age': '24', 'Fit': 'Yes', 'City': 'Bengaluru'}\n"
     ]
    }
   ],
   "source": [
    "mydict[\"Name\"] = \"Harsh Sharma\"\n",
    "print(mydict)"
   ]
  },
  {
   "cell_type": "markdown",
   "id": "ef18445d",
   "metadata": {},
   "source": [
    "Q19. Print only the keys, then only the values."
   ]
  },
  {
   "cell_type": "code",
   "execution_count": 55,
   "id": "168778dc",
   "metadata": {},
   "outputs": [
    {
     "name": "stdout",
     "output_type": "stream",
     "text": [
      "dict_keys(['Name', 'Age', 'Fit', 'City'])\n",
      "dict_values(['Harsh Sharma', '24', 'Yes', 'Bengaluru'])\n"
     ]
    }
   ],
   "source": [
    "print(mydict.keys())\n",
    "print(mydict.values())"
   ]
  },
  {
   "cell_type": "markdown",
   "id": "d7e4c948",
   "metadata": {},
   "source": [
    "Q20. Check if a key exists, and print its value."
   ]
  },
  {
   "cell_type": "code",
   "execution_count": 56,
   "id": "3ce39858",
   "metadata": {},
   "outputs": [
    {
     "name": "stdout",
     "output_type": "stream",
     "text": [
      "Yes\n"
     ]
    }
   ],
   "source": [
    "if \"Age\" in mydict:\n",
    "    print(\"Yes\")\n",
    "else:\n",
    "    print(\"No\")"
   ]
  },
  {
   "cell_type": "code",
   "execution_count": null,
   "id": "1679e541",
   "metadata": {},
   "outputs": [],
   "source": []
  }
 ],
 "metadata": {
  "kernelspec": {
   "display_name": "base",
   "language": "python",
   "name": "python3"
  },
  "language_info": {
   "codemirror_mode": {
    "name": "ipython",
    "version": 3
   },
   "file_extension": ".py",
   "mimetype": "text/x-python",
   "name": "python",
   "nbconvert_exporter": "python",
   "pygments_lexer": "ipython3",
   "version": "3.12.7"
  }
 },
 "nbformat": 4,
 "nbformat_minor": 5
}
