{
 "cells": [
  {
   "cell_type": "markdown",
   "id": "03b94d2e",
   "metadata": {},
   "source": [
    "## Loops Practice"
   ]
  },
  {
   "cell_type": "code",
   "execution_count": 1,
   "id": "ec4dda87",
   "metadata": {},
   "outputs": [],
   "source": [
    "# if "
   ]
  },
  {
   "cell_type": "code",
   "execution_count": 2,
   "id": "528576e2",
   "metadata": {},
   "outputs": [
    {
     "name": "stdout",
     "output_type": "stream",
     "text": [
      "5 is positive number\n"
     ]
    }
   ],
   "source": [
    "# Check if a number is positive.\n",
    "\n",
    "inp = int(input(\"Enter Number : \"))\n",
    "if inp>0:\n",
    "    print(inp, \"is positive number\")"
   ]
  },
  {
   "cell_type": "code",
   "execution_count": 10,
   "id": "f4b1610d",
   "metadata": {},
   "outputs": [],
   "source": [
    "inp1 = int(input(\"Enter Number : \"))\n",
    "if inp1 % 2 == 0:\n",
    "    print(inp1, \"is even number\")"
   ]
  },
  {
   "cell_type": "code",
   "execution_count": 12,
   "id": "0f485a56",
   "metadata": {},
   "outputs": [],
   "source": [
    "char = (input(\"Enter : \"))\n",
    "if 'a' in char:\n",
    "    print(char, \"has a\")"
   ]
  },
  {
   "cell_type": "code",
   "execution_count": 14,
   "id": "825602ab",
   "metadata": {},
   "outputs": [
    {
     "name": "stdout",
     "output_type": "stream",
     "text": [
      "hars empty string\n"
     ]
    }
   ],
   "source": [
    "#if-else\n",
    "#Check if a string is empty or not.\n",
    "\n",
    "s1 = (input(\"Enter : \"))\n",
    "if '' in s1:\n",
    "    print(s1, \"empty string\")\n",
    "else:\n",
    "    print(s1, \"is not empty\")"
   ]
  },
  {
   "cell_type": "code",
   "execution_count": 15,
   "id": "8d49f5f1",
   "metadata": {},
   "outputs": [
    {
     "name": "stdout",
     "output_type": "stream",
     "text": [
      "3 is greater\n"
     ]
    }
   ],
   "source": [
    "#Compare two numbers and print the greater one.\n",
    "\n",
    "num1=int(input(\"Number 1\"))\n",
    "num2=int(input(\"Number 2\"))\n",
    "\n",
    "if num1>num2 :\n",
    "    print(num1, \"is greater\")\n",
    "\n",
    "else:\n",
    "    print(num2, \"is greater\")"
   ]
  },
  {
   "cell_type": "code",
   "execution_count": 16,
   "id": "56b032d8",
   "metadata": {},
   "outputs": [],
   "source": [
    "# how to check for leap year"
   ]
  },
  {
   "cell_type": "code",
   "execution_count": 19,
   "id": "155c6c5e",
   "metadata": {},
   "outputs": [
    {
     "name": "stdout",
     "output_type": "stream",
     "text": [
      "Your Grade is 'A'\n"
     ]
    }
   ],
   "source": [
    "# elif\n",
    "\n",
    "#Grade a student based on marks:\n",
    "#90+ = A, 80–89 = B, 70–79 = C, else Fail\n",
    "\n",
    "marks = int(input(\"Enter Your Marks :\"))\n",
    "if marks>=90:\n",
    "    print(\"Your Grade is 'A'\")\n",
    "elif marks>=80 or marks<90:\n",
    "    print(\"Your Grade is 'B'\")\n",
    "elif marks>=70 or marks<80:\n",
    "    print(\"Your Grade is 'C'\")\n",
    "else:\n",
    "    print(\"Failed\")"
   ]
  },
  {
   "cell_type": "code",
   "execution_count": 21,
   "id": "43a27af4",
   "metadata": {},
   "outputs": [
    {
     "name": "stdout",
     "output_type": "stream",
     "text": [
      "STOP!\n"
     ]
    }
   ],
   "source": [
    "\n",
    "#Traffic light system:\n",
    "#Red = Stop, Yellow = Wait, Green = Go, else Invalid\n",
    "\n",
    "signal = (input(\"Enter Color: \"))\n",
    "if signal == 'Red':\n",
    "    print(\"STOP!\")\n",
    "elif signal=='Yellow':\n",
    "    print(\"WAIT\")\n",
    "elif signal=='Green':\n",
    "    print(\"GO!\")\n",
    "else:\n",
    "    print(\"Invalid\")"
   ]
  },
  {
   "cell_type": "code",
   "execution_count": 23,
   "id": "4068c5a3",
   "metadata": {},
   "outputs": [
    {
     "name": "stdout",
     "output_type": "stream",
     "text": [
      "1\n",
      "2\n",
      "3\n",
      "4\n",
      "5\n",
      "6\n",
      "7\n",
      "8\n",
      "9\n",
      "10\n"
     ]
    }
   ],
   "source": [
    "#while\n",
    "#Print numbers from 1 to 10 using while loop.\n",
    "\n",
    "i=1\n",
    "while i<=10:\n",
    "    print(i)\n",
    "    i+=1\n"
   ]
  },
  {
   "cell_type": "code",
   "execution_count": 25,
   "id": "a481c8ba",
   "metadata": {},
   "outputs": [
    {
     "name": "stdout",
     "output_type": "stream",
     "text": [
      "You Did Not Enter Name\n",
      "You Did Not Enter Name\n",
      "You Did Not Enter Name\n",
      "You Did Not Enter Name\n",
      "You Did Not Enter Name\n",
      "You Did Not Enter Name\n",
      "Hello Bhacha\n"
     ]
    }
   ],
   "source": [
    "#Keep asking input until the user types 'exit'.\n",
    "\n",
    "name = input(\"Please Enter Your Name:\")\n",
    "while name == \"\":\n",
    "    print(\"You Did Not Enter Name\")\n",
    "    name = input(\"Please Enter Your Name:\")\n",
    "\n",
    "else:\n",
    "    print(f\"Hello {name}\")\n"
   ]
  },
  {
   "cell_type": "code",
   "execution_count": 26,
   "id": "f3df62af",
   "metadata": {},
   "outputs": [
    {
     "name": "stdout",
     "output_type": "stream",
     "text": [
      "You like Mnago\n",
      "You like Banana\n",
      "You like Banana\n",
      "You like Apple\n",
      "byeeeeeeeeeee\n"
     ]
    }
   ],
   "source": [
    "#Enter Food You Like\n",
    "\n",
    "food = input(\"Enter Food You Like (q to quit): \")\n",
    "while food != \"q\":\n",
    "    print(f\"You like {food}\")\n",
    "    food = input(\"Enter Another Food You Like (q to quit): \")\n",
    "else:\n",
    "    print(\"byeeeeeeeeeee\")"
   ]
  },
  {
   "cell_type": "code",
   "execution_count": 27,
   "id": "2dd26424",
   "metadata": {},
   "outputs": [
    {
     "name": "stdout",
     "output_type": "stream",
     "text": [
      "55 is not valid\n",
      "Your Number is 1\n"
     ]
    }
   ],
   "source": [
    "#Enter a number between 1 to 10\n",
    "\n",
    "num = int(input(\"Please enter a number between 1-10\"))\n",
    "while num<1 or num>10:\n",
    "    print(f\"{num} is not valid\")\n",
    "    num = int(input(\"Please enter a number between 1-10\"))\n",
    "\n",
    "print(f\"Your Number is {num}\")"
   ]
  },
  {
   "cell_type": "code",
   "execution_count": 36,
   "id": "3db67012",
   "metadata": {},
   "outputs": [
    {
     "name": "stdout",
     "output_type": "stream",
     "text": [
      "10\n",
      "9\n",
      "8\n",
      "7\n",
      "6\n",
      "5\n",
      "4\n",
      "3\n",
      "2\n",
      "1\n",
      "Happy New Year\n"
     ]
    }
   ],
   "source": [
    "# fixed num = for loop\n",
    "for num in range(10,0,-1):\n",
    "    print(num)\n",
    "print(\"Happy New Year\")"
   ]
  },
  {
   "cell_type": "code",
   "execution_count": null,
   "id": "f878e40d",
   "metadata": {},
   "outputs": [],
   "source": []
  }
 ],
 "metadata": {
  "kernelspec": {
   "display_name": "base",
   "language": "python",
   "name": "python3"
  },
  "language_info": {
   "codemirror_mode": {
    "name": "ipython",
    "version": 3
   },
   "file_extension": ".py",
   "mimetype": "text/x-python",
   "name": "python",
   "nbconvert_exporter": "python",
   "pygments_lexer": "ipython3",
   "version": "3.12.7"
  }
 },
 "nbformat": 4,
 "nbformat_minor": 5
}
