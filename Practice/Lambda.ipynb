{
 "cells": [
  {
   "cell_type": "markdown",
   "id": "998dc63f",
   "metadata": {},
   "source": [
    "## Lambda Function Noob to Pro"
   ]
  },
  {
   "cell_type": "markdown",
   "id": "1c94cfb9",
   "metadata": {},
   "source": [
    "#### Definition - Small anonymous function written in one line\n",
    "Syntax - lambda arguments:expression"
   ]
  },
  {
   "cell_type": "code",
   "execution_count": null,
   "id": "ea6b6fd6",
   "metadata": {},
   "outputs": [
    {
     "name": "stdout",
     "output_type": "stream",
     "text": [
      "9\n"
     ]
    }
   ],
   "source": [
    "#Addition\n",
    "\n",
    "add = lambda a,b : a+b #syntax\n",
    "print(add(7,2)) #calling"
   ]
  },
  {
   "cell_type": "code",
   "execution_count": 3,
   "id": "3d604e58",
   "metadata": {},
   "outputs": [
    {
     "name": "stdout",
     "output_type": "stream",
     "text": [
      "25\n"
     ]
    }
   ],
   "source": [
    "#Square of a number\n",
    "\n",
    "square = lambda a: a*a\n",
    "print(square(5))"
   ]
  },
  {
   "cell_type": "code",
   "execution_count": 5,
   "id": "eb1c4a36",
   "metadata": {},
   "outputs": [
    {
     "name": "stdout",
     "output_type": "stream",
     "text": [
      "False\n",
      "True\n"
     ]
    }
   ],
   "source": [
    "# is even\n",
    "\n",
    "is_even = lambda a: a%2==0\n",
    "print(is_even(5))\n",
    "print(is_even(10))"
   ]
  },
  {
   "cell_type": "markdown",
   "id": "d3bee93f",
   "metadata": {},
   "source": [
    "#### map() function\n",
    "syntax - map(function, iterable) - applies function to each item"
   ]
  },
  {
   "cell_type": "code",
   "execution_count": 7,
   "id": "f352c150",
   "metadata": {},
   "outputs": [
    {
     "name": "stdout",
     "output_type": "stream",
     "text": [
      "[1, 4, 9, 16, 25]\n"
     ]
    }
   ],
   "source": [
    "#square using map()\n",
    "\n",
    "numbers = [1,2,3,4,5]\n",
    "squares = list(map(lambda x:x*x, numbers))\n",
    "print(squares)"
   ]
  },
  {
   "cell_type": "code",
   "execution_count": 4,
   "id": "35886bb7",
   "metadata": {},
   "outputs": [
    {
     "name": "stdout",
     "output_type": "stream",
     "text": [
      "['PYTHON', 'DATA', 'SCIENCE']\n"
     ]
    }
   ],
   "source": [
    "#Convert List into Uppercase\n",
    "\n",
    "words = ['python', 'data', 'science']\n",
    "uppercase = list(map(lambda x:x.upper(), words))\n",
    "print(uppercase)"
   ]
  },
  {
   "cell_type": "code",
   "execution_count": 5,
   "id": "020000d1",
   "metadata": {},
   "outputs": [
    {
     "name": "stdout",
     "output_type": "stream",
     "text": [
      "[32.0, 50.0, 68.0, 86.0]\n"
     ]
    }
   ],
   "source": [
    "#Convert Celsius to Fahrenheit\n",
    "\n",
    "celsius = [0, 10, 20, 30]\n",
    "farenheit = list(map(lambda c:(9/5)*c + 32, celsius))\n",
    "print(farenheit)"
   ]
  },
  {
   "cell_type": "markdown",
   "id": "0639c32a",
   "metadata": {},
   "source": [
    "#### filter()\n",
    "syntax - filter(function, iterable) - filters the items"
   ]
  },
  {
   "cell_type": "code",
   "execution_count": 6,
   "id": "d454dc46",
   "metadata": {},
   "outputs": [
    {
     "name": "stdout",
     "output_type": "stream",
     "text": [
      "[1, 3, 5]\n"
     ]
    }
   ],
   "source": [
    "#filter odds from list\n",
    "\n",
    "nums = [1, 2, 3, 4, 5, 6]\n",
    "odds = list(filter(lambda x: x%2!=0, nums))\n",
    "print(odds)"
   ]
  },
  {
   "cell_type": "code",
   "execution_count": 7,
   "id": "4e4bce2c",
   "metadata": {},
   "outputs": [
    {
     "name": "stdout",
     "output_type": "stream",
     "text": [
      "['Shyam', 'Radha']\n"
     ]
    }
   ],
   "source": [
    "# Filter names longer than 4 characters\n",
    "\n",
    "names = ['Ram', 'Shyam', 'Radha', 'Ami']\n",
    "long_names = list(filter(lambda x:len(x)>4, names))\n",
    "print(long_names)"
   ]
  },
  {
   "cell_type": "code",
   "execution_count": 8,
   "id": "7ccd14e4",
   "metadata": {},
   "outputs": [
    {
     "name": "stdout",
     "output_type": "stream",
     "text": [
      "['hello', 'world', 'python']\n"
     ]
    }
   ],
   "source": [
    "# Filter non-empty strings\n",
    "\n",
    "texts = ['hello', '', 'world', '', 'python']\n",
    "non_empty = list(filter(lambda x:x!=\"\", texts))\n",
    "print(non_empty)"
   ]
  },
  {
   "cell_type": "markdown",
   "id": "ee102fee",
   "metadata": {},
   "source": [
    "#### reduce()\n",
    "- use with functools.reduce() to accumulate results\n",
    "- syntax - reduce(function, iterable)"
   ]
  },
  {
   "cell_type": "code",
   "execution_count": 9,
   "id": "9e050599",
   "metadata": {},
   "outputs": [
    {
     "name": "stdout",
     "output_type": "stream",
     "text": [
      "10\n"
     ]
    }
   ],
   "source": [
    "# add all the elements in list\n",
    "\n",
    "from functools import reduce\n",
    "nums = [1, 2, 3, 4]\n",
    "add_all = reduce(lambda x,y:x+y, nums)\n",
    "print(add_all)"
   ]
  },
  {
   "cell_type": "code",
   "execution_count": 10,
   "id": "62e8082b",
   "metadata": {},
   "outputs": [
    {
     "name": "stdout",
     "output_type": "stream",
     "text": [
      "24\n"
     ]
    }
   ],
   "source": [
    "# product of all numbers\n",
    "\n",
    "from functools import reduce\n",
    "multiply_all = reduce(lambda x,y:x*y, nums)\n",
    "print(multiply_all)"
   ]
  },
  {
   "cell_type": "code",
   "execution_count": null,
   "id": "f026e59b",
   "metadata": {},
   "outputs": [],
   "source": [
    "#Longest string in a list\n",
    "\n"
   ]
  }
 ],
 "metadata": {
  "kernelspec": {
   "display_name": "base",
   "language": "python",
   "name": "python3"
  },
  "language_info": {
   "codemirror_mode": {
    "name": "ipython",
    "version": 3
   },
   "file_extension": ".py",
   "mimetype": "text/x-python",
   "name": "python",
   "nbconvert_exporter": "python",
   "pygments_lexer": "ipython3",
   "version": "3.12.7"
  }
 },
 "nbformat": 4,
 "nbformat_minor": 5
}
