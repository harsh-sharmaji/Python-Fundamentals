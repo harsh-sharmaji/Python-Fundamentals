{
 "cells": [
  {
   "cell_type": "code",
   "execution_count": 1,
   "id": "c69531b1",
   "metadata": {},
   "outputs": [],
   "source": [
    "def start():\n",
    "    print(\"Lets Code!\")"
   ]
  },
  {
   "cell_type": "code",
   "execution_count": 2,
   "id": "9e8fa47e",
   "metadata": {},
   "outputs": [],
   "source": [
    "#Write a function named greet() that prints \"Hello, welcome!\"\n",
    "\n",
    "def greet():\n",
    "    return \"Hello, Welcome!\""
   ]
  },
  {
   "cell_type": "code",
   "execution_count": 3,
   "id": "cd2e6cb2",
   "metadata": {},
   "outputs": [
    {
     "data": {
      "text/plain": [
       "'Hello, Welcome!'"
      ]
     },
     "execution_count": 3,
     "metadata": {},
     "output_type": "execute_result"
    }
   ],
   "source": [
    "greet()"
   ]
  },
  {
   "cell_type": "code",
   "execution_count": null,
   "id": "456f9965",
   "metadata": {},
   "outputs": [],
   "source": [
    "#Write a function add(a, b) that returns the sum of two numbers.\n",
    "\n",
    "def addition(a,b): #parameters\n",
    "    print(a+b)"
   ]
  },
  {
   "cell_type": "code",
   "execution_count": null,
   "id": "824e3f57",
   "metadata": {},
   "outputs": [
    {
     "name": "stdout",
     "output_type": "stream",
     "text": [
      "90\n"
     ]
    }
   ],
   "source": [
    "addition(10, 80) #arguments"
   ]
  },
  {
   "cell_type": "markdown",
   "id": "34cdc29c",
   "metadata": {},
   "source": [
    "#### What is the difference between a function that returns a value and one that just prints it?\n",
    "<br>\n",
    "\n",
    "* print() displays the result on screen but doesn't give a value back to your code.\n",
    "\n",
    "* return sends the result back to the part of the program that called the function.\n"
   ]
  },
  {
   "cell_type": "code",
   "execution_count": 6,
   "id": "11dbad07",
   "metadata": {},
   "outputs": [],
   "source": [
    "#Level 2\n",
    "\n",
    "#Write a function area_of_circle(radius) that returns the area of a circle.\n",
    "\n",
    "def areaofcircle(r):\n",
    "    area = 3.14 * r *r\n",
    "    '''This is the formula of area of circle pi*r(square)'''\n",
    "    return area\n",
    "\n"
   ]
  },
  {
   "cell_type": "code",
   "execution_count": 7,
   "id": "b15e337e",
   "metadata": {},
   "outputs": [
    {
     "name": "stdout",
     "output_type": "stream",
     "text": [
      "78.5\n"
     ]
    }
   ],
   "source": [
    "print(areaofcircle(5))"
   ]
  },
  {
   "cell_type": "code",
   "execution_count": 8,
   "id": "ca0f1d66",
   "metadata": {},
   "outputs": [
    {
     "name": "stdout",
     "output_type": "stream",
     "text": [
      "25\n"
     ]
    }
   ],
   "source": [
    "#Write a function power(base, exponent=2) that returns base raised to exponent. Try calling it with one and two arguments.\n",
    "\n",
    "def power(base, exponent):\n",
    "    num = base**exponent\n",
    "    return num\n",
    "print(power(5,2))"
   ]
  },
  {
   "cell_type": "code",
   "execution_count": null,
   "id": "19089550",
   "metadata": {},
   "outputs": [
    {
     "name": "stdout",
     "output_type": "stream",
     "text": [
      "('Harsh', '24')\n"
     ]
    }
   ],
   "source": [
    "def describe_person(name, age):\n",
    "    name = \"Harsh\"\n",
    "    age = \"24\"\n",
    "    return (name,age)\n",
    "print(describe_person(\"Harsh\",\"24\"))"
   ]
  },
  {
   "cell_type": "code",
   "execution_count": 20,
   "id": "842c02d3",
   "metadata": {},
   "outputs": [
    {
     "name": "stdout",
     "output_type": "stream",
     "text": [
      "Invalid Opeator, Try again\n",
      "Invalid Opeator, Try again\n",
      "Invalid Opeator, Try again\n",
      "5\n"
     ]
    }
   ],
   "source": [
    "def calculate():\n",
    "    while True:\n",
    "        operation = input(\"Enter operation (+, -, *, /): \")\n",
    "        if operation in \"+-*/\":\n",
    "            break\n",
    "        else:\n",
    "            print(\"Invalid Opeator, Try again\")\n",
    "    a = int(input(\"Enter number 1: \"))\n",
    "    b = int(input(\"Enter number 2: \"))\n",
    "    \n",
    "    if operation == '+':\n",
    "        return a + b\n",
    "    elif operation == '-':\n",
    "        return a - b\n",
    "    elif operation == '*':\n",
    "        return a * b\n",
    "    elif operation == '/':\n",
    "        return a / b\n",
    "\n",
    "        \n",
    "print(calculate())"
   ]
  },
  {
   "cell_type": "code",
   "execution_count": 15,
   "id": "364756b4",
   "metadata": {},
   "outputs": [
    {
     "data": {
      "text/plain": [
       "27"
      ]
     },
     "execution_count": 15,
     "metadata": {},
     "output_type": "execute_result"
    }
   ],
   "source": [
    "3 ** 3\n"
   ]
  },
  {
   "cell_type": "code",
   "execution_count": 19,
   "id": "4af29be8",
   "metadata": {},
   "outputs": [
    {
     "data": {
      "text/plain": [
       "3.0"
      ]
     },
     "execution_count": 19,
     "metadata": {},
     "output_type": "execute_result"
    }
   ],
   "source": [
    "27 ** (1/3)\n"
   ]
  },
  {
   "cell_type": "code",
   "execution_count": null,
   "id": "2cdfd42a",
   "metadata": {},
   "outputs": [],
   "source": []
  }
 ],
 "metadata": {
  "kernelspec": {
   "display_name": "base",
   "language": "python",
   "name": "python3"
  },
  "language_info": {
   "codemirror_mode": {
    "name": "ipython",
    "version": 3
   },
   "file_extension": ".py",
   "mimetype": "text/x-python",
   "name": "python",
   "nbconvert_exporter": "python",
   "pygments_lexer": "ipython3",
   "version": "3.12.7"
  }
 },
 "nbformat": 4,
 "nbformat_minor": 5
}
